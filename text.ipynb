{
 "cells": [
  {
   "cell_type": "code",
   "execution_count": 116,
   "metadata": {},
   "outputs": [],
   "source": [
    "import random as rn\n",
    "r = 0\n",
    "b = 0"
   ]
  },
  {
   "cell_type": "code",
   "execution_count": 127,
   "metadata": {},
   "outputs": [],
   "source": [
    "def F(r: int, b: int, n: int):\n",
    "    for i in range(n):\n",
    "        f = rn.randint(0, r+b)\n",
    "        if f < r: b += 1\n",
    "        else: r += 1\n",
    "    print(\"r = {}, b = {}\".format(r, b))"
   ]
  },
  {
   "cell_type": "code",
   "execution_count": 129,
   "metadata": {},
   "outputs": [
    {
     "name": "stdout",
     "output_type": "stream",
     "text": [
      "r = 50062, b = 49938\n"
     ]
    }
   ],
   "source": [
    "F(r,b,100000)"
   ]
  },
  {
   "cell_type": "code",
   "execution_count": 2,
   "metadata": {},
   "outputs": [
    {
     "name": "stdout",
     "output_type": "stream",
     "text": [
      "67.6\n"
     ]
    }
   ],
   "source": [
    "print(72*0.8 + 50 * 0.2)"
   ]
  },
  {
   "cell_type": "code",
   "execution_count": null,
   "metadata": {},
   "outputs": [],
   "source": []
  }
 ],
 "metadata": {
  "kernelspec": {
   "display_name": "Python 3",
   "language": "python",
   "name": "python3"
  },
  "language_info": {
   "codemirror_mode": {
    "name": "ipython",
    "version": 3
   },
   "file_extension": ".py",
   "mimetype": "text/x-python",
   "name": "python",
   "nbconvert_exporter": "python",
   "pygments_lexer": "ipython3",
   "version": "3.10.6"
  },
  "orig_nbformat": 4,
  "vscode": {
   "interpreter": {
    "hash": "46c4d7a06d9c9f3b4ce8e6b76538f5d2bc1addee6b5ebd23c8d981936e03d6fd"
   }
  }
 },
 "nbformat": 4,
 "nbformat_minor": 2
}
