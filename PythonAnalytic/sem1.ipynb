{
 "cells": [
  {
   "cell_type": "markdown",
   "id": "cbb5ac08",
   "metadata": {},
   "source": [
    "## 1.1 \n",
    "Соедините два словаря в один\n"
   ]
  },
  {
   "cell_type": "code",
   "execution_count": 1,
   "id": "797f012d",
   "metadata": {},
   "outputs": [],
   "source": [
    "dict_1 = {'name': 'Tom',\n",
    "         'surname': 'Tum'}"
   ]
  },
  {
   "cell_type": "code",
   "execution_count": 2,
   "id": "36087876",
   "metadata": {},
   "outputs": [],
   "source": [
    "dict_2 = {'age': 1}"
   ]
  },
  {
   "cell_type": "code",
   "execution_count": 3,
   "id": "efd031da",
   "metadata": {},
   "outputs": [],
   "source": [
    "dict_1.update(dict_2)"
   ]
  },
  {
   "cell_type": "code",
   "execution_count": 4,
   "id": "46eec905",
   "metadata": {},
   "outputs": [
    {
     "data": {
      "text/plain": [
       "{'name': 'Tom', 'surname': 'Tum', 'age': 1}"
      ]
     },
     "execution_count": 4,
     "metadata": {},
     "output_type": "execute_result"
    }
   ],
   "source": [
    "dict_1"
   ]
  },
  {
   "cell_type": "markdown",
   "id": "ef11bbe0",
   "metadata": {},
   "source": [
    "## 1.2 \n",
    "Напишите функцию, которая на вход принимает два словаря и возвращает один объединенный словарь\n",
    "Используйте аннотирование типов\n"
   ]
  },
  {
   "cell_type": "code",
   "execution_count": 5,
   "id": "ec0a9cf6",
   "metadata": {},
   "outputs": [],
   "source": [
    "def conc(d1: dict, d2: dict):\n",
    "    d1.update(d2)\n",
    "    return d1"
   ]
  },
  {
   "cell_type": "code",
   "execution_count": 6,
   "id": "af30155b",
   "metadata": {},
   "outputs": [],
   "source": [
    "f = conc(dict_1, dict_2)"
   ]
  },
  {
   "cell_type": "code",
   "execution_count": 7,
   "id": "d3eddd8f",
   "metadata": {},
   "outputs": [
    {
     "data": {
      "text/plain": [
       "{'name': 'Tom', 'surname': 'Tum', 'age': 1}"
      ]
     },
     "execution_count": 7,
     "metadata": {},
     "output_type": "execute_result"
    }
   ],
   "source": [
    "f"
   ]
  },
  {
   "cell_type": "markdown",
   "id": "671ed933",
   "metadata": {},
   "source": [
    "Напишите функцию, которая из двух списков, делает один словарь, где элементы из первого списка - ключи, а элементы из второго списка - значения\n",
    "\n",
    "\n",
    "Используйте аннотирование типов\n",
    "\n",
    "2.1 Используя цикл for\n",
    "\n",
    "2.2 Используя dict comprehensions\n"
   ]
  },
  {
   "cell_type": "code",
   "execution_count": 8,
   "id": "1746beaa",
   "metadata": {},
   "outputs": [],
   "source": [
    "case = ['One', 'Two', 'Tree']\n",
    "valu = [1, 2, 3]"
   ]
  },
  {
   "cell_type": "code",
   "execution_count": 9,
   "id": "35ec1919",
   "metadata": {},
   "outputs": [],
   "source": [
    "d = {}\n",
    "for i in range(3):\n",
    "    d[case[i]] = valu[i]"
   ]
  },
  {
   "cell_type": "code",
   "execution_count": 10,
   "id": "f323c533",
   "metadata": {},
   "outputs": [
    {
     "data": {
      "text/plain": [
       "{'One': 1, 'Two': 2, 'Tree': 3}"
      ]
     },
     "execution_count": 10,
     "metadata": {},
     "output_type": "execute_result"
    }
   ],
   "source": [
    "d"
   ]
  },
  {
   "cell_type": "code",
   "execution_count": 11,
   "id": "eb857c30",
   "metadata": {},
   "outputs": [
    {
     "data": {
      "text/plain": [
       "{'One': 1, 'Two': 2, 'Tree': 3}"
      ]
     },
     "execution_count": 11,
     "metadata": {},
     "output_type": "execute_result"
    }
   ],
   "source": [
    "p = {}\n",
    "for i in range(3):\n",
    "    p.update({case[i]: valu[i]})\n",
    "\n",
    "p"
   ]
  },
  {
   "cell_type": "code",
   "execution_count": 12,
   "id": "e3f02542",
   "metadata": {},
   "outputs": [],
   "source": [
    "dict = {case[i]: valu[i] for i, j in enumerate(case)}"
   ]
  },
  {
   "cell_type": "code",
   "execution_count": 13,
   "id": "f30f7a87",
   "metadata": {},
   "outputs": [
    {
     "data": {
      "text/plain": [
       "{'One': 1, 'Two': 2, 'Tree': 3}"
      ]
     },
     "execution_count": 13,
     "metadata": {},
     "output_type": "execute_result"
    }
   ],
   "source": [
    "dict"
   ]
  },
  {
   "cell_type": "markdown",
   "id": "7ae7f9b2",
   "metadata": {},
   "source": [
    "3.1 Напишите функцию с циклом for\n",
    "Функция на вход принимает:\n",
    "исходный словарь\n",
    "ключи, которые нужно извлечь (аргумент по умолчанию)\n",
    "На выходе словарь с нужными ключами\n",
    "Используйте аннотирование типов\n",
    "3.2 Используя dict comprehensions\n",
    "\n"
   ]
  },
  {
   "cell_type": "code",
   "execution_count": 14,
   "id": "e3e3ad93",
   "metadata": {},
   "outputs": [],
   "source": [
    "client_dict = {\n",
    "    \"name\": \"John\",\n",
    "    \"age\": 25,\n",
    "    \"salary\": 5000, \n",
    "    \"city\": \"Moscow\"\n",
    "}\n"
   ]
  },
  {
   "cell_type": "code",
   "execution_count": 15,
   "id": "841654b3",
   "metadata": {},
   "outputs": [],
   "source": [
    "def f(d: dict, k: list) -> dict:\n",
    "    answer = {}\n",
    "    for word in k:\n",
    "        answer.update({word: d[word]})\n",
    "    return answer"
   ]
  },
  {
   "cell_type": "code",
   "execution_count": 16,
   "id": "ec19ae4e",
   "metadata": {},
   "outputs": [
    {
     "data": {
      "text/plain": [
       "{'salary': 5000, 'name': 'John'}"
      ]
     },
     "execution_count": 16,
     "metadata": {},
     "output_type": "execute_result"
    }
   ],
   "source": [
    "f(client_dict, [\"salary\", \"name\"])"
   ]
  },
  {
   "cell_type": "code",
   "execution_count": 17,
   "id": "19c90743",
   "metadata": {},
   "outputs": [],
   "source": [
    "l = [\"city\", \"age\"]\n",
    "new_dict = {i: client_dict[i] for i in l}"
   ]
  },
  {
   "cell_type": "code",
   "execution_count": 18,
   "id": "322efcde",
   "metadata": {},
   "outputs": [
    {
     "data": {
      "text/plain": [
       "{'city': 'Moscow', 'age': 25}"
      ]
     },
     "execution_count": 18,
     "metadata": {},
     "output_type": "execute_result"
    }
   ],
   "source": [
    "new_dict"
   ]
  },
  {
   "cell_type": "markdown",
   "id": "69af1645",
   "metadata": {},
   "source": [
    "4.1 Сгенерируйте случайные целые числа от 0 до 100 в количестве 5 штук с помощью модуля random\n",
    "Зафиксируйте псевдогенерацию, чтобы сгенерированные значения всегда были одинаковые\n",
    "Используйте list comprehensions\n"
   ]
  },
  {
   "cell_type": "code",
   "execution_count": 19,
   "id": "824c513b",
   "metadata": {},
   "outputs": [],
   "source": [
    "import random"
   ]
  },
  {
   "cell_type": "code",
   "execution_count": 20,
   "id": "d4424225",
   "metadata": {},
   "outputs": [
    {
     "data": {
      "text/plain": [
       "[979, 977, 980, 1030, 976, 996, 1004, 1028, 1069, 961]"
      ]
     },
     "execution_count": 20,
     "metadata": {},
     "output_type": "execute_result"
    }
   ],
   "source": [
    "random.seed()\n",
    "l = [random.randint(0, 9) for i in range(10000)]\n",
    "le = [0] * 10\n",
    "for i in l:\n",
    "    le[i]+=1\n",
    "le\n"
   ]
  },
  {
   "cell_type": "code",
   "execution_count": 21,
   "id": "419f1163",
   "metadata": {},
   "outputs": [],
   "source": [
    "le = [0] * 10"
   ]
  },
  {
   "cell_type": "code",
   "execution_count": 22,
   "id": "651ecd3e",
   "metadata": {},
   "outputs": [
    {
     "data": {
      "text/plain": [
       "[979, 977, 980, 1030, 976, 996, 1004, 1028, 1069, 961]"
      ]
     },
     "execution_count": 22,
     "metadata": {},
     "output_type": "execute_result"
    }
   ],
   "source": [
    "for i in l:\n",
    "    le[i]+=1\n",
    "le\n"
   ]
  },
  {
   "cell_type": "code",
   "execution_count": null,
   "id": "07d680a9",
   "metadata": {},
   "outputs": [],
   "source": []
  },
  {
   "cell_type": "code",
   "execution_count": null,
   "id": "fbf30f21",
   "metadata": {},
   "outputs": [],
   "source": []
  }
 ],
 "metadata": {
  "kernelspec": {
   "display_name": "Python 3",
   "language": "python",
   "name": "python3"
  },
  "language_info": {
   "codemirror_mode": {
    "name": "ipython",
    "version": 3
   },
   "file_extension": ".py",
   "mimetype": "text/x-python",
   "name": "python",
   "nbconvert_exporter": "python",
   "pygments_lexer": "ipython3",
   "version": "3.10.6"
  },
  "vscode": {
   "interpreter": {
    "hash": "46c4d7a06d9c9f3b4ce8e6b76538f5d2bc1addee6b5ebd23c8d981936e03d6fd"
   }
  }
 },
 "nbformat": 4,
 "nbformat_minor": 5
}
