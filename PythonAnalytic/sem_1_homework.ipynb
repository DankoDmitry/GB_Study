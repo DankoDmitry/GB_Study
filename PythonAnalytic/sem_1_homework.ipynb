{
 "cells": [
  {
   "cell_type": "markdown",
   "id": "c8efe00f",
   "metadata": {},
   "source": [
    "# Домашняя работа №1 по 'Основы языка Python для аналитиков (семинары)'"
   ]
  },
  {
   "cell_type": "markdown",
   "id": "cbb731ca",
   "metadata": {},
   "source": [
    "## Условие 1:"
   ]
  },
  {
   "cell_type": "markdown",
   "id": "f7e38b21",
   "metadata": {},
   "source": [
    "Оформляйте ноутбук, используя эти советы:\n",
    "\n",
    "    Номер задачи - заголовок 2\n",
    "    Номер подзадачи - заголовок 3\n",
    "    Предоставленные наборы данных оформляйте, как код\n",
    "    Рекомендации для преподавателей по оценке задания:\n",
    "    Смотреть, чтобы студент красиво оформлял ноутбук, использовал ячейки с текстом, указывал номера заданий"
   ]
  },
  {
   "cell_type": "markdown",
   "id": "7f533234",
   "metadata": {},
   "source": [
    "## Условие 2:"
   ]
  },
  {
   "cell_type": "markdown",
   "id": "c262bcf5",
   "metadata": {},
   "source": [
    "На складе лежат разные фрукты в разном количестве.\n",
    "\n",
    "Нужно написать функцию, которая на вход принимает любое количество названий фруктов и их количество, а возвращает общее количество фруктов на складе"
   ]
  },
  {
   "cell_type": "markdown",
   "id": "67188042",
   "metadata": {},
   "source": [
    "#### Решение:"
   ]
  },
  {
   "cell_type": "code",
   "execution_count": 1,
   "id": "792da3c3",
   "metadata": {},
   "outputs": [],
   "source": [
    "def Fruits_counter(**kwargs):\n",
    "    count = sum(kwargs.values())\n",
    "    return count"
   ]
  },
  {
   "cell_type": "markdown",
   "id": "4b057f8c",
   "metadata": {},
   "source": [
    "#### Пример:"
   ]
  },
  {
   "cell_type": "code",
   "execution_count": 2,
   "id": "2fbbe830",
   "metadata": {},
   "outputs": [
    {
     "data": {
      "text/plain": [
       "8"
      ]
     },
     "execution_count": 2,
     "metadata": {},
     "output_type": "execute_result"
    }
   ],
   "source": [
    "Fruits_counter(banana=3, apple=5)"
   ]
  },
  {
   "cell_type": "markdown",
   "id": "cac83d05",
   "metadata": {},
   "source": [
    "## Условие 3:"
   ]
  },
  {
   "cell_type": "markdown",
   "id": "8f2cdd97",
   "metadata": {},
   "source": [
    "Дан список с затратами на рекламу. Но в данных есть ошибки, некоторые затраты имеют отрицательную величину. \n",
    "\n",
    "Удалите такие значения из списка и посчитайте суммарные затраты\n",
    "\n",
    "    [100, 125, -90, 345, 655, -1, 0, 200]\n",
    "    \n",
    "Используйте list comprehensions"
   ]
  },
  {
   "cell_type": "markdown",
   "id": "4f018a3b",
   "metadata": {},
   "source": [
    "#### Решение:"
   ]
  },
  {
   "cell_type": "code",
   "execution_count": 3,
   "id": "ac40691f",
   "metadata": {},
   "outputs": [],
   "source": [
    "price = [100, 125, -90, 345, 655, -1, 0, 200]\n",
    "\n",
    "correct_price = [i for i in price if i >= 0]"
   ]
  },
  {
   "cell_type": "markdown",
   "id": "f3c95087",
   "metadata": {},
   "source": [
    "#### Ответ:"
   ]
  },
  {
   "cell_type": "code",
   "execution_count": 4,
   "id": "6a0fa3de",
   "metadata": {},
   "outputs": [
    {
     "data": {
      "text/plain": [
       "1425"
      ]
     },
     "execution_count": 4,
     "metadata": {},
     "output_type": "execute_result"
    }
   ],
   "source": [
    "sum(correct_price)"
   ]
  },
  {
   "cell_type": "markdown",
   "id": "07cd01e1",
   "metadata": {},
   "source": [
    "## Условие 4:"
   ]
  },
  {
   "cell_type": "markdown",
   "id": "fedae889",
   "metadata": {},
   "source": [
    "Даны два списка.\n",
    "\n",
    "Дата покупки\n",
    "\n",
    "    ['2021-09-14', '2021-12-15', '2021-09-08', '2021-12-05', '2021-10-09', '2021-09-30', '2021-12-22', '2021-11-29', '2021-12-24', '2021-11-26', '2021-10-27', '2021-12-18', '2021-11-09', '2021-11-23', '2021-09-27', '2021-10-02', '2021-12-27', '2021-09-20', '2021-12-13', '2021-11-01', '2021-11-09', '2021-12-06', '2021-12-08', '2021-10-09', '2021-10-31', '2021-09-30', '2021-11-09', '2021-12-13', '2021-10-26', '2021-12-09']\n",
    "\n",
    "Суммы покупок по датам\n",
    "\n",
    "    [1270, 8413, 9028, 3703, 5739, 4095, 295, 4944, 5723, 3701, 4471, 651, 7037, 4274, 6275, 4988, 6930, 2971, 6592, 2004, 2822, 519, 3406, 2732, 5015, 2008, 316, 6333, 5700, 2887]"
   ]
  },
  {
   "cell_type": "markdown",
   "id": "a450950c",
   "metadata": {},
   "source": [
    "### 4.1 Найдите, какая выручка у компании в ноябре\n",
    "\n",
    "Используйте list comprehensions"
   ]
  },
  {
   "cell_type": "markdown",
   "id": "87495cc7",
   "metadata": {},
   "source": [
    "#### Решение:"
   ]
  },
  {
   "cell_type": "code",
   "execution_count": 5,
   "id": "b237beb6",
   "metadata": {},
   "outputs": [],
   "source": [
    "Date_list = ['2021-09-14', '2021-12-15', '2021-09-08', '2021-12-05', '2021-10-09', '2021-09-30',\n",
    "             '2021-12-22', '2021-11-29', '2021-12-24', '2021-11-26', '2021-10-27', '2021-12-18',\n",
    "             '2021-11-09', '2021-11-23', '2021-09-27', '2021-10-02', '2021-12-27', '2021-09-20',\n",
    "             '2021-12-13', '2021-11-01', '2021-11-09', '2021-12-06', '2021-12-08', '2021-10-09',\n",
    "             '2021-10-31', '2021-09-30', '2021-11-09', '2021-12-13', '2021-10-26', '2021-12-09']\n",
    "Summ_list = [1270, 8413, 9028, 3703, 5739, 4095, 295, 4944, 5723, 3701, 4471, 651, 7037, 4274, 6275,\n",
    "             4988, 6930, 2971, 6592, 2004, 2822, 519, 3406, 2732, 5015, 2008, 316, 6333, 5700, 2887]\n",
    "\n",
    "revenue_11 = sum([Summ_list[Date_list.index(i)] for i in Date_list if i[5:7] == '11'])"
   ]
  },
  {
   "cell_type": "markdown",
   "id": "607834da",
   "metadata": {},
   "source": [
    "#### Пояснение:\n",
    "\n",
    "Внутри суммы составляем список *выручек*, которые были в ноябре. Для этого 5 и 6 элемент строки даты сравниваем с 11 (номер ноября)."
   ]
  },
  {
   "cell_type": "markdown",
   "id": "7f95db0d",
   "metadata": {},
   "source": [
    "#### Ответ:"
   ]
  },
  {
   "cell_type": "code",
   "execution_count": 6,
   "id": "a623d1f3",
   "metadata": {},
   "outputs": [
    {
     "data": {
      "text/plain": [
       "36034"
      ]
     },
     "execution_count": 6,
     "metadata": {},
     "output_type": "execute_result"
    }
   ],
   "source": [
    "revenue_11"
   ]
  },
  {
   "cell_type": "markdown",
   "id": "bb283855",
   "metadata": {},
   "source": [
    "### 4.2 Найдите выручку компании в зависимости от месяца\n",
    "\n",
    "Для этого напишите функцию, которая на вход принимает список с датами и список с выручкой, а на выходе словарь, где ключи - это месяцы, а значения - это выручка.\n",
    "Используйте аннотирование типов."
   ]
  },
  {
   "cell_type": "markdown",
   "id": "e035f151",
   "metadata": {},
   "source": [
    "***Не понял задание***\n",
    "\n",
    "Сначала напишу функцию, которая выдаст суммырную выручку по месяцу (месяц вводится числом от 1 до 12).\n",
    "\n",
    "После - функцию, которая описана в задании. "
   ]
  },
  {
   "cell_type": "markdown",
   "id": "875e020c",
   "metadata": {},
   "source": [
    "#### Решение:"
   ]
  },
  {
   "cell_type": "code",
   "execution_count": 7,
   "id": "891ece62",
   "metadata": {},
   "outputs": [],
   "source": [
    "def Revenue(nomber: int) -> int:\n",
    "    revenue = sum([Summ_list[Date_list.index(i)] for i in Date_list if i[5:7] == str(nomber)])\n",
    "    return revenue"
   ]
  },
  {
   "cell_type": "markdown",
   "id": "604385a8",
   "metadata": {},
   "source": [
    "#### Пример:"
   ]
  },
  {
   "cell_type": "code",
   "execution_count": 8,
   "id": "94cb0508",
   "metadata": {},
   "outputs": [
    {
     "data": {
      "text/plain": [
       "0"
      ]
     },
     "execution_count": 8,
     "metadata": {},
     "output_type": "execute_result"
    }
   ],
   "source": [
    "Revenue(1)"
   ]
  },
  {
   "cell_type": "markdown",
   "id": "3e5a51e0",
   "metadata": {},
   "source": [
    "#### Решение:"
   ]
  },
  {
   "cell_type": "code",
   "execution_count": 9,
   "id": "2518ef50",
   "metadata": {},
   "outputs": [],
   "source": [
    "def Dict(Date_l: list, Summ_l: list) -> dict:\n",
    "    d = {Date_l[i]: Summ_l[i] for i, j in enumerate(Summ_l)}\n",
    "    return d"
   ]
  },
  {
   "cell_type": "markdown",
   "id": "fee01c0b",
   "metadata": {},
   "source": [
    "#### Пример:"
   ]
  },
  {
   "cell_type": "code",
   "execution_count": 10,
   "id": "e81a2860",
   "metadata": {},
   "outputs": [
    {
     "data": {
      "text/plain": [
       "{'2021-09-14': 1270,\n",
       " '2021-12-15': 8413,\n",
       " '2021-09-08': 9028,\n",
       " '2021-12-05': 3703,\n",
       " '2021-10-09': 2732,\n",
       " '2021-09-30': 2008,\n",
       " '2021-12-22': 295,\n",
       " '2021-11-29': 4944,\n",
       " '2021-12-24': 5723,\n",
       " '2021-11-26': 3701,\n",
       " '2021-10-27': 4471,\n",
       " '2021-12-18': 651,\n",
       " '2021-11-09': 316,\n",
       " '2021-11-23': 4274,\n",
       " '2021-09-27': 6275,\n",
       " '2021-10-02': 4988,\n",
       " '2021-12-27': 6930,\n",
       " '2021-09-20': 2971,\n",
       " '2021-12-13': 6333,\n",
       " '2021-11-01': 2004,\n",
       " '2021-12-06': 519,\n",
       " '2021-12-08': 3406,\n",
       " '2021-10-31': 5015,\n",
       " '2021-10-26': 5700,\n",
       " '2021-12-09': 2887}"
      ]
     },
     "execution_count": 10,
     "metadata": {},
     "output_type": "execute_result"
    }
   ],
   "source": [
    "Dict(Date_list, Summ_list)"
   ]
  },
  {
   "cell_type": "markdown",
   "id": "1b337d23",
   "metadata": {},
   "source": [
    "## Конец"
   ]
  }
 ],
 "metadata": {
  "kernelspec": {
   "display_name": "Python 3",
   "language": "python",
   "name": "python3"
  },
  "language_info": {
   "codemirror_mode": {
    "name": "ipython",
    "version": 3
   },
   "file_extension": ".py",
   "mimetype": "text/x-python",
   "name": "python",
   "nbconvert_exporter": "python",
   "pygments_lexer": "ipython3",
   "version": "3.10.6"
  },
  "vscode": {
   "interpreter": {
    "hash": "46c4d7a06d9c9f3b4ce8e6b76538f5d2bc1addee6b5ebd23c8d981936e03d6fd"
   }
  }
 },
 "nbformat": 4,
 "nbformat_minor": 5
}
