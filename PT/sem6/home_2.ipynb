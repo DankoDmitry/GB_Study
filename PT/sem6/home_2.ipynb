{
 "cells": [
  {
   "cell_type": "code",
   "execution_count": 3,
   "metadata": {},
   "outputs": [],
   "source": [
    "import numpy as np\n",
    "import scipy"
   ]
  },
  {
   "attachments": {},
   "cell_type": "markdown",
   "metadata": {},
   "source": [
    "## 1"
   ]
  },
  {
   "attachments": {},
   "cell_type": "markdown",
   "metadata": {},
   "source": [
    "![](\\task1.png)"
   ]
  },
  {
   "attachments": {},
   "cell_type": "markdown",
   "metadata": {},
   "source": [
    "## 2 "
   ]
  },
  {
   "attachments": {},
   "cell_type": "markdown",
   "metadata": {},
   "source": [
    "В результате 10 независимых измерений некоторой величины X, выполненных с одинаковой точностью,\n",
    "получены опытные данные:\n",
    "\n",
    "6.9, 6.1, 6.2, 6.8, 7.5, 6.3, 6.4, 6.9, 6.7, 6.1\n",
    "\n",
    "Предполагая, что результаты измерений подчинены нормальному закону распределения вероятностей,\n",
    "оценить истинное значение величины X при помощи доверительного интервала, покрывающего это\n",
    "значение с доверительной вероятностью 0,95."
   ]
  },
  {
   "cell_type": "code",
   "execution_count": 14,
   "metadata": {},
   "outputs": [
    {
     "name": "stdout",
     "output_type": "stream",
     "text": [
      "M = 6.590000000000001; D = 0.2032222222222223; t = 2.2621571627409915\n"
     ]
    }
   ],
   "source": [
    "a = np.array([6.9, 6.1, 6.2, 6.8, 7.5, 6.3, 6.4, 6.9, 6.7, 6.1])\n",
    "\n",
    "M = np.mean(a)                  # среднее по выборке \n",
    "D = np.var(a, ddof=1)           # несмещённая дисперсия по выборке \n",
    "t = scipy.stats.t.ppf(0.975, 9) # табличное значение для t-критерия\n",
    "\n",
    "print(\"M = {}; D = {}; t = {}\".format(M, D, t))"
   ]
  },
  {
   "cell_type": "code",
   "execution_count": 11,
   "metadata": {},
   "outputs": [
    {
     "name": "stdout",
     "output_type": "stream",
     "text": [
      "[6.267515851415713; 6.912484148584288]\n"
     ]
    }
   ],
   "source": [
    "# Доверительный интервал для среднего\n",
    "\n",
    "x_1 = M - t*np.sqrt(D/10)\n",
    "x_2 = M + t*np.sqrt(D/10)\n",
    "\n",
    "print(\"[{}; {}]\".format(x_1, x_2))"
   ]
  },
  {
   "attachments": {},
   "cell_type": "markdown",
   "metadata": {},
   "source": [
    "## 3 "
   ]
  },
  {
   "attachments": {},
   "cell_type": "markdown",
   "metadata": {},
   "source": [
    "Рост дочерей 175, 167, 154, 174, 178, 148, 160, 167, 169, 170\n",
    "\n",
    "Рост матерей 178, 165, 165, 173, 168, 155, 160, 164, 178, 175\n",
    "\n",
    "Используя эти данные построить 95% доверительный интервал для разности среднего роста родителей и детей."
   ]
  },
  {
   "cell_type": "code",
   "execution_count": 31,
   "metadata": {},
   "outputs": [
    {
     "name": "stdout",
     "output_type": "stream",
     "text": [
      "M_a = 166.2; M_b = 168.1; D_a = 91.06666666666666; D_b = 60.10000000000001\n",
      "delta = 1.9000000000000057; t = 2.10092204024096; D = 75.58333333333334; SE = 3.8880157750022915;\n"
     ]
    }
   ],
   "source": [
    "a = np.array([175, 167, 154, 174, 178, 148, 160, 167, 169, 170])\n",
    "\n",
    "M_a = np.mean(a)                    # среднее по выборке \n",
    "D_a = np.var(a, ddof=1)             # несмещённая дисперсия по выборке \n",
    "\n",
    "b = np.array([178, 165, 165, 173, 168, 155, 160, 164, 178, 175])\n",
    "\n",
    "M_b = np.mean(b)                    # среднее по выборке \n",
    "D_b = np.var(b, ddof=1)             # несмещённая дисперсия по выборке \n",
    "\n",
    "delta = abs(M_a - M_b)              # разность средних\n",
    "D = (D_a + D_b)/2                   # объединеённая оценка дисперсии\n",
    "SE = np.sqrt((D_a + D_b)/10)        # стандартная ошибка разности средних\n",
    "\n",
    "t = scipy.stats.t.ppf(0.975, 18)    # табличное значение для t-критерия\n",
    "\n",
    "print(\"M_a = {}; M_b = {}; D_a = {}; D_b = {}\".format(M_a, M_b, D_a, D_b))\n",
    "\n",
    "print(\"delta = {}; t = {}; D = {}; SE = {};\".format(delta, t, D, SE))"
   ]
  },
  {
   "cell_type": "code",
   "execution_count": 32,
   "metadata": {},
   "outputs": [
    {
     "name": "stdout",
     "output_type": "stream",
     "text": [
      "[-6.268418034506846; 10.068418034506857]\n"
     ]
    }
   ],
   "source": [
    "L = delta - t*SE\n",
    "U = delta + t*SE\n",
    "\n",
    "print(\"[{}; {}]\".format(L, U))      # доверительный интервал"
   ]
  }
 ],
 "metadata": {
  "kernelspec": {
   "display_name": "Python 3",
   "language": "python",
   "name": "python3"
  },
  "language_info": {
   "codemirror_mode": {
    "name": "ipython",
    "version": 3
   },
   "file_extension": ".py",
   "mimetype": "text/x-python",
   "name": "python",
   "nbconvert_exporter": "python",
   "pygments_lexer": "ipython3",
   "version": "3.10.6 (tags/v3.10.6:9c7b4bd, Aug  1 2022, 21:53:49) [MSC v.1932 64 bit (AMD64)]"
  },
  "orig_nbformat": 4,
  "vscode": {
   "interpreter": {
    "hash": "46c4d7a06d9c9f3b4ce8e6b76538f5d2bc1addee6b5ebd23c8d981936e03d6fd"
   }
  }
 },
 "nbformat": 4,
 "nbformat_minor": 2
}
