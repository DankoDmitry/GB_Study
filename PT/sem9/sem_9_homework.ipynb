{
 "cells": [
  {
   "cell_type": "markdown",
   "id": "6c48901a",
   "metadata": {},
   "source": [
    "# Теория вероятностей и математическая статистика (семинары)"
   ]
  },
  {
   "cell_type": "code",
   "execution_count": 1,
   "id": "3590e3a1",
   "metadata": {},
   "outputs": [],
   "source": [
    "import numpy as np\n",
    "import scipy.stats as stats"
   ]
  },
  {
   "attachments": {},
   "cell_type": "markdown",
   "metadata": {},
   "source": [
    "## 1\n",
    "\n",
    "Даны значения величины заработной платы заемщиков банка (zp) и значения их поведенческого кредитного скоринга (ks): \n",
    "\n",
    "    zp = [35, 45, 190, 200, 40, 70, 54, 150, 120, 110]\n",
    "    ks = [401, 574, 874, 919, 459, 739, 653, 902, 746, 832]\n",
    "\n",
    "Используя математические операции, посчитать коэффициенты линейной регрессии, приняв за X заработную плату (то есть, zp - признак), а за y - значения скорингового балла (то есть, ks - целевая переменная). "
   ]
  },
  {
   "attachments": {},
   "cell_type": "markdown",
   "id": "92bedb0f",
   "metadata": {},
   "source": [
    "### Решение: y = b0 + x*b1"
   ]
  },
  {
   "cell_type": "code",
   "execution_count": 20,
   "metadata": {},
   "outputs": [
    {
     "name": "stdout",
     "output_type": "stream",
     "text": [
      "k = 444.17735732435955 + z * 2.6205388824027653\n"
     ]
    }
   ],
   "source": [
    "z = np.array([35, 45, 190, 200, 40, 70, 54, 150, 120, 110])\n",
    "k = np.array([401, 574, 874, 919, 459, 739, 653, 902, 746, 832])\n",
    "\n",
    "n = len(z)\n",
    "\n",
    "b1 = (n*np.sum(z*k) - np.sum(z)*np.sum(k))/(n*np.sum(z**2) - np.sum(z)**2)\n",
    "\n",
    "b0 = np.mean(k) - b1*np.mean(z)\n",
    "\n",
    "print(f\"k = {b0} + z * {b1}\")"
   ]
  },
  {
   "attachments": {},
   "cell_type": "markdown",
   "metadata": {},
   "source": [
    "## 2\n",
    "\n",
    "Посчитать коэффициент линейной регрессии при заработной плате (zp), используя градиентный спуск (без intercept)."
   ]
  },
  {
   "attachments": {},
   "cell_type": "markdown",
   "id": "92bedb0f",
   "metadata": {},
   "source": [
    "### Решение: y = x*b1"
   ]
  },
  {
   "cell_type": "code",
   "execution_count": 29,
   "metadata": {},
   "outputs": [
    {
     "name": "stdout",
     "output_type": "stream",
     "text": [
      "Iteretion = 0; B1 = 1.1347302\n",
      "Iteretion = 500; B1 = 5.8898163455368975\n",
      "Iteretion = 1000; B1 = 5.8898204201291975\n",
      "Iteretion = 1500; B1 = 5.889820420132673\n",
      "Iteretion = 2000; B1 = 5.889820420132673\n",
      "Iteretion = 2500; B1 = 5.889820420132673\n",
      "Iteretion = 3000; B1 = 5.889820420132673\n",
      "Iteretion = 3500; B1 = 5.889820420132673\n",
      "Iteretion = 4000; B1 = 5.889820420132673\n",
      "Iteretion = 4500; B1 = 5.889820420132673\n",
      "Iteretion = 5000; B1 = 5.889820420132673\n",
      "Iteretion = 5500; B1 = 5.889820420132673\n",
      "Iteretion = 6000; B1 = 5.889820420132673\n",
      "Iteretion = 6500; B1 = 5.889820420132673\n",
      "Iteretion = 7000; B1 = 5.889820420132673\n",
      "Iteretion = 7500; B1 = 5.889820420132673\n",
      "Iteretion = 8000; B1 = 5.889820420132673\n",
      "Iteretion = 8500; B1 = 5.889820420132673\n",
      "Iteretion = 9000; B1 = 5.889820420132673\n",
      "Iteretion = 9500; B1 = 5.889820420132673\n",
      "\n",
      " Ответ: k = z * 5.889820420132673\n"
     ]
    }
   ],
   "source": [
    "alfa = 1e-6\n",
    "\n",
    "B1 = 1\n",
    "\n",
    "for i in range(10000):\n",
    "    B1 -= alfa * (2/n) * np.sum((B1 * z - k) * z)\n",
    "    if i % 500 == 0:\n",
    "        print(f\"Iteretion = {i}; B1 = {B1}\")\n",
    "\n",
    "print(f\"\\n Ответ: k = z * {B1}\")"
   ]
  },
  {
   "attachments": {},
   "cell_type": "markdown",
   "metadata": {},
   "source": [
    "## 3\n",
    "\n",
    "Произвести вычисления как в пункте 2, но с вычислением intercept. \n",
    "\n",
    "Учесть, что изменение коэффициентов должно производиться на каждом шаге одновременно (то есть изменение одного коэффициента не должно влиять на изменение другого во время одной итерации)."
   ]
  },
  {
   "attachments": {},
   "cell_type": "markdown",
   "id": "92bedb0f",
   "metadata": {},
   "source": [
    "### Решение:"
   ]
  },
  {
   "cell_type": "code",
   "execution_count": 30,
   "metadata": {},
   "outputs": [],
   "source": [
    "from sklearn.linear_model import LinearRegression"
   ]
  },
  {
   "cell_type": "code",
   "execution_count": 35,
   "metadata": {},
   "outputs": [
    {
     "name": "stdout",
     "output_type": "stream",
     "text": [
      "444.17735732435943 [2.62053888]\n"
     ]
    }
   ],
   "source": [
    "Z = z.reshape(-1,1)\n",
    "\n",
    "model = LinearRegression()\n",
    "\n",
    "regres = model.fit(Z, k)\n",
    "\n",
    "print(regres.intercept_, regres.coef_)"
   ]
  }
 ],
 "metadata": {
  "kernelspec": {
   "display_name": "Python 3",
   "language": "python",
   "name": "python3"
  },
  "language_info": {
   "codemirror_mode": {
    "name": "ipython",
    "version": 3
   },
   "file_extension": ".py",
   "mimetype": "text/x-python",
   "name": "python",
   "nbconvert_exporter": "python",
   "pygments_lexer": "ipython3",
   "version": "3.10.6"
  },
  "orig_nbformat": 4,
  "vscode": {
   "interpreter": {
    "hash": "46c4d7a06d9c9f3b4ce8e6b76538f5d2bc1addee6b5ebd23c8d981936e03d6fd"
   }
  }
 },
 "nbformat": 4,
 "nbformat_minor": 2
}
