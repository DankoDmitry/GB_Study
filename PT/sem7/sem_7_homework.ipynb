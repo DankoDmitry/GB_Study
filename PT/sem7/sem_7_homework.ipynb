{
 "cells": [
  {
   "cell_type": "markdown",
   "id": "6c48901a",
   "metadata": {},
   "source": [
    "# Теория вероятностей и математическая статистика (семинары)"
   ]
  },
  {
   "cell_type": "markdown",
   "id": "08c4a852",
   "metadata": {},
   "source": [
    "*1-4 задачи решать с помощью функций, 5ю вручную Выберите тест и проверьте, есть ли различия между выборками:*"
   ]
  },
  {
   "cell_type": "code",
   "execution_count": 1,
   "id": "3590e3a1",
   "metadata": {},
   "outputs": [],
   "source": [
    "import numpy as np\n",
    "import scipy.stats as stats"
   ]
  },
  {
   "cell_type": "markdown",
   "id": "70a79ae3",
   "metadata": {},
   "source": [
    "## 1\n",
    "\n",
    "Даны две независимые выборки. \n",
    "\n",
    "Не соблюдается условие нормальности \n",
    "\n",
    "    x1 380,420, 290 \n",
    "    y1 140,360,200,900 \n",
    "    \n",
    "Сделайте вывод по результатам, полученным с помощью функции"
   ]
  },
  {
   "cell_type": "markdown",
   "id": "e3237b61",
   "metadata": {},
   "source": [
    "### Решение: критерий Манна – Уитни"
   ]
  },
  {
   "cell_type": "code",
   "execution_count": 2,
   "id": "a11f98d0",
   "metadata": {
    "scrolled": false
   },
   "outputs": [
    {
     "data": {
      "text/plain": [
       "MannwhitneyuResult(statistic=8.0, pvalue=0.6285714285714286)"
      ]
     },
     "execution_count": 2,
     "metadata": {},
     "output_type": "execute_result"
    }
   ],
   "source": [
    "x1 = np.array([380,420,290]) \n",
    "y1 = np.array([140,360,200,900])\n",
    "\n",
    "stats.mannwhitneyu(x1, y1)"
   ]
  },
  {
   "cell_type": "markdown",
   "id": "445e473f",
   "metadata": {},
   "source": [
    "pvalue > alfa = 5% Т.е. различий между группами не найдено."
   ]
  },
  {
   "cell_type": "markdown",
   "id": "52504183",
   "metadata": {},
   "source": [
    "## 2\n",
    "\n",
    "Исследовалось влияние препарата на уровень давления пациентов. \n",
    "\n",
    "Сначала измерялось давление до приема препарата, потом через 10 минут и через 30 минут. \n",
    "\n",
    "Есть ли статистически значимые различия? \n",
    "\n",
    "    1е измерение до приема препарата: 150, 160, 165, 145, 155 \n",
    "    2е измерение через 10 минут: 140, 155, 150, 130, 135 \n",
    "    3е измерение через 30 минут: 130, 130, 120, 130, 125 "
   ]
  },
  {
   "cell_type": "markdown",
   "id": "2c7fe899",
   "metadata": {},
   "source": [
    "### Решение: критерий Фридмана"
   ]
  },
  {
   "cell_type": "code",
   "execution_count": 3,
   "id": "1914fb61",
   "metadata": {},
   "outputs": [
    {
     "data": {
      "text/plain": [
       "FriedmanchisquareResult(statistic=9.578947368421062, pvalue=0.00831683351100441)"
      ]
     },
     "execution_count": 3,
     "metadata": {},
     "output_type": "execute_result"
    }
   ],
   "source": [
    "_1 = np.array([150, 160, 165, 145, 155])\n",
    "_2 = np.array([140, 155, 150, 130, 135]) \n",
    "_3 = np.array([130, 130, 120, 130, 125]) \n",
    "\n",
    "stats.friedmanchisquare(_1, _2, _3)"
   ]
  },
  {
   "cell_type": "markdown",
   "id": "a0559968",
   "metadata": {},
   "source": [
    "pvalue < alfa = 5% Т.е. вывод в пользу альтернативной гипотезы."
   ]
  },
  {
   "cell_type": "markdown",
   "id": "4cc86847",
   "metadata": {},
   "source": [
    "## 3\n",
    "\n",
    "Сравните 1 и 2 е измерения, предполагая, что 3го измерения через 30 минут не было."
   ]
  },
  {
   "cell_type": "markdown",
   "id": "789e3da1",
   "metadata": {},
   "source": [
    "### Решение: критерий Уилкоксона"
   ]
  },
  {
   "cell_type": "code",
   "execution_count": 4,
   "id": "5dc35837",
   "metadata": {},
   "outputs": [
    {
     "data": {
      "text/plain": [
       "WilcoxonResult(statistic=0.0, pvalue=0.0625)"
      ]
     },
     "execution_count": 4,
     "metadata": {},
     "output_type": "execute_result"
    }
   ],
   "source": [
    "stats.wilcoxon(_1, _2)"
   ]
  },
  {
   "cell_type": "markdown",
   "id": "e6b9d233",
   "metadata": {},
   "source": [
    "pvalue > alfa = 5% Т.е. различий между группами не найдено."
   ]
  },
  {
   "cell_type": "markdown",
   "id": "25b8f09f",
   "metadata": {},
   "source": [
    "## 4\n",
    "\n",
    "Даны 3 группы учеников плавания.\n",
    "\n",
    "В 1 группе время на дистанцию 50 м составляют: \n",
    "\n",
    "    56, 60, 62, 55, 71, 67, 59, 58, 64, 67 \n",
    "    \n",
    "Вторая группа: \n",
    "\n",
    "    57, 58, 69, 48, 72, 70, 68, 71, 50, 53 \n",
    "    \n",
    "Третья группа: \n",
    "\n",
    "    57, 67, 49, 48, 47, 55, 66, 51, 54 \n",
    "    \n",
    "Выберите тест и проверьте, есть ли различия между выборками."
   ]
  },
  {
   "cell_type": "markdown",
   "id": "92bedb0f",
   "metadata": {},
   "source": [
    "### Решение: критерий Крускала –Уоллиса"
   ]
  },
  {
   "cell_type": "code",
   "execution_count": 5,
   "id": "5c5e0155",
   "metadata": {},
   "outputs": [
    {
     "data": {
      "text/plain": [
       "KruskalResult(statistic=5.465564058257224, pvalue=0.0650380998590494)"
      ]
     },
     "execution_count": 5,
     "metadata": {},
     "output_type": "execute_result"
    }
   ],
   "source": [
    "group_1 = np.array([56, 60, 62, 55, 71, 67, 59, 58, 64, 67])\n",
    "group_2 = np.array([57, 58, 69, 48, 72, 70, 68, 71, 50, 53]) \n",
    "group_3 = np.array([57, 67, 49, 48, 47, 55, 66, 51, 54])\n",
    "\n",
    "stats.kruskal(group_1, group_2, group_3)"
   ]
  },
  {
   "cell_type": "markdown",
   "id": "b8f1130a",
   "metadata": {},
   "source": [
    "pvalue > alfa = 5% Т.е. различий между группами не найдено."
   ]
  },
  {
   "cell_type": "markdown",
   "id": "1daaa1e3",
   "metadata": {},
   "source": [
    "## 5\n",
    "\n",
    "Заявляется, что партия изготавливается со средним арифметическим 2,5 см. Проверить данную гипотезу, если известно, что размеры изделий подчинены нормальному закону распределения. Объем выборки 10, уровень статистической значимости 5% \n",
    "\n",
    "    2.51, 2.35, 2.74, 2.56, 2.40, 2.36, 2.65, 2.7, 2.67, 2.34"
   ]
  },
  {
   "attachments": {},
   "cell_type": "markdown",
   "id": "92bedb0f",
   "metadata": {},
   "source": [
    "### Решение:"
   ]
  },
  {
   "cell_type": "code",
   "execution_count": 21,
   "id": "4ccab1e0",
   "metadata": {},
   "outputs": [
    {
     "data": {
      "text/plain": [
       "0.5935187931919275"
      ]
     },
     "execution_count": 21,
     "metadata": {},
     "output_type": "execute_result"
    }
   ],
   "source": [
    "x = np.array([2.51, 2.35, 2.74, 2.56, 2.40, 2.36, 2.65, 2.7, 2.67, 2.34])\n",
    "\n",
    "M = 2.5\n",
    "Z_t = 1.65\n",
    "n=10\n",
    "\n",
    "M_x = sum(x)/10\n",
    "\n",
    "# D_x = M_(x^2) - (M_x)^2            M_(x^2) = M2 второй момент\n",
    "\n",
    "M2 = 0\n",
    "for i in x:\n",
    "    M2+=i*i\n",
    "M2/=10\n",
    "M2\n",
    "\n",
    "D_x = M2 - M_x**2\n",
    "\n",
    "Z_n = abs((M - M_x)/np.sqrt(D_x/n))\n",
    "\n",
    "Z_n"
   ]
  },
  {
   "attachments": {},
   "cell_type": "markdown",
   "id": "06b76505",
   "metadata": {},
   "source": [
    "Видим, что Z_n < Z_t, значит верна нулевая гипотеза."
   ]
  }
 ],
 "metadata": {
  "kernelspec": {
   "display_name": "Python 3",
   "language": "python",
   "name": "python3"
  },
  "language_info": {
   "codemirror_mode": {
    "name": "ipython",
    "version": 3
   },
   "file_extension": ".py",
   "mimetype": "text/x-python",
   "name": "python",
   "nbconvert_exporter": "python",
   "pygments_lexer": "ipython3",
   "version": "3.10.6"
  },
  "vscode": {
   "interpreter": {
    "hash": "46c4d7a06d9c9f3b4ce8e6b76538f5d2bc1addee6b5ebd23c8d981936e03d6fd"
   }
  }
 },
 "nbformat": 4,
 "nbformat_minor": 5
}
