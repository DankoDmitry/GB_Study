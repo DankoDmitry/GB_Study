{
 "cells": [
  {
   "cell_type": "markdown",
   "id": "6c48901a",
   "metadata": {},
   "source": [
    "# Теория вероятностей и математическая статистика (семинары)"
   ]
  },
  {
   "cell_type": "code",
   "execution_count": 1,
   "id": "3590e3a1",
   "metadata": {},
   "outputs": [],
   "source": [
    "import numpy as np\n",
    "import scipy.stats as stats"
   ]
  },
  {
   "attachments": {},
   "cell_type": "markdown",
   "metadata": {},
   "source": [
    "## 1\n",
    "\n",
    "Даны значения величины заработной платы заемщиков банка (zp) и значения их поведенческого кредитного скоринга (ks):\n",
    "\n",
    "    zp = [35, 45, 190, 200, 40, 70, 54, 150, 120, 110]\n",
    "    ks = [401, 574, 874, 919, 459, 739, 653, 902, 746, 832]\n",
    "\n",
    "Найдите ковариацию этих двух величин с помощью элементарных действий, а затем с помощью функции cov из numpy\n",
    "\n",
    "Полученные значения должны быть равны.\n",
    "\n",
    "Найдите коэффициент корреляции Пирсона с помощью ковариации и среднеквадратичных отклонений двух признаков,\n",
    "а затем с использованием функций из библиотек numpy и pandas."
   ]
  },
  {
   "attachments": {},
   "cell_type": "markdown",
   "id": "92bedb0f",
   "metadata": {},
   "source": [
    "### Решение 1: \n",
    "\n",
    "*К элементарным действиям отнесём нахождение матожидания*"
   ]
  },
  {
   "cell_type": "code",
   "execution_count": 21,
   "metadata": {},
   "outputs": [
    {
     "name": "stdout",
     "output_type": "stream",
     "text": [
      "9157.839999999997\n"
     ]
    },
    {
     "data": {
      "text/plain": [
       "array([[ 3494.64,  9157.84],\n",
       "       [ 9157.84, 30468.89]])"
      ]
     },
     "execution_count": 21,
     "metadata": {},
     "output_type": "execute_result"
    }
   ],
   "source": [
    "z = np.array([35, 45, 190, 200, 40, 70, 54, 150, 120, 110])\n",
    "k = np.array([401, 574, 874, 919, 459, 739, 653, 902, 746, 832])\n",
    "\n",
    "cov_zk = np.mean(z*k) - np.mean(z)*np.mean(k)\n",
    "\n",
    "print(cov_zk)\n",
    "\n",
    "np.cov(z, k, ddof=0)"
   ]
  },
  {
   "attachments": {},
   "cell_type": "markdown",
   "metadata": {},
   "source": [
    "Видим, что ковариации совпадают."
   ]
  },
  {
   "cell_type": "code",
   "execution_count": 25,
   "metadata": {},
   "outputs": [
    {
     "name": "stdout",
     "output_type": "stream",
     "text": [
      "0.8874900920739158\n"
     ]
    },
    {
     "data": {
      "text/plain": [
       "array([[1.        , 0.88749009],\n",
       "       [0.88749009, 1.        ]])"
      ]
     },
     "execution_count": 25,
     "metadata": {},
     "output_type": "execute_result"
    }
   ],
   "source": [
    "corr = cov_zk/(np.std(z, ddof=0)*np.std(k, ddof=0))\n",
    "print(corr)\n",
    "\n",
    "np.corrcoef(z, k)"
   ]
  },
  {
   "attachments": {},
   "cell_type": "markdown",
   "metadata": {},
   "source": [
    "Видим, что корреляция Питерсона тоже совпадает."
   ]
  },
  {
   "attachments": {},
   "cell_type": "markdown",
   "metadata": {},
   "source": [
    "## 2\n",
    "\n",
    "Измерены значения IQ выборки студентов,\n",
    "обучающихся в местных технических вузах:\n",
    "\n",
    "    131, 125, 115, 122, 131, 115, 107, 99, 125, 111.\n",
    "\n",
    "Известно, что в генеральной совокупности IQ распределен нормально.\n",
    "Найдите доверительный интервал для математического ожидания с надежностью 0.95."
   ]
  },
  {
   "attachments": {},
   "cell_type": "markdown",
   "id": "92bedb0f",
   "metadata": {},
   "source": [
    "### Решение:"
   ]
  },
  {
   "cell_type": "code",
   "execution_count": 28,
   "metadata": {},
   "outputs": [
    {
     "name": "stdout",
     "output_type": "stream",
     "text": [
      "Доверительный интервал [115.77694325128171; 120.42305674871828]\n"
     ]
    }
   ],
   "source": [
    "A = np.array([131, 125, 115, 122, 131, 115, 107, 99, 125, 111])\n",
    "\n",
    "# сигма генеральной совокупности не известна, по этому t-критерий\n",
    "# так же имеем 2-сторонний критерий\n",
    "\n",
    "M = np.mean(A)\n",
    "D = np.std(A, ddof=1)\n",
    "t = stats.t.ppf(0.975, 9)\n",
    "\n",
    "X_1 = M - t*np.sqrt(D/10)\n",
    "X_2 = M + t*np.sqrt(D/10)\n",
    "\n",
    "print(\"Доверительный интервал [{}; {}]\".format(X_1, X_2))"
   ]
  },
  {
   "attachments": {},
   "cell_type": "markdown",
   "metadata": {},
   "source": [
    "## 3\n",
    "\n",
    "Известно, что рост футболистов в сборной распределен нормально\n",
    "с дисперсией генеральной совокупности, равной 25 кв.см. \n",
    "Объем выборки равен 27,\n",
    "среднее выборочное составляет 174.2. \n",
    "\n",
    "Найдите доверительный интервал для математического\n",
    "ожидания с надежностью 0.95."
   ]
  },
  {
   "attachments": {},
   "cell_type": "markdown",
   "id": "92bedb0f",
   "metadata": {},
   "source": [
    "### Решение:\n",
    "двусторонний доверительный интервал"
   ]
  },
  {
   "cell_type": "code",
   "execution_count": 30,
   "metadata": {},
   "outputs": [
    {
     "name": "stdout",
     "output_type": "stream",
     "text": [
      "Доверительный интервал [172.31398912064722; 176.08601087935276]\n"
     ]
    }
   ],
   "source": [
    "m = 174.2\n",
    "d = 25\n",
    "n = 27\n",
    "a_2 = 0.025\n",
    "\n",
    "Z_n = 1.96\n",
    "\n",
    "x_1 = m - Z_n*np.sqrt(d/n)\n",
    "x_2 = m + Z_n*np.sqrt(d/n)\n",
    "\n",
    "print(\"Доверительный интервал [{}; {}]\".format(x_1, x_2))"
   ]
  }
 ],
 "metadata": {
  "kernelspec": {
   "display_name": "Python 3",
   "language": "python",
   "name": "python3"
  },
  "language_info": {
   "codemirror_mode": {
    "name": "ipython",
    "version": 3
   },
   "file_extension": ".py",
   "mimetype": "text/x-python",
   "name": "python",
   "nbconvert_exporter": "python",
   "pygments_lexer": "ipython3",
   "version": "3.10.6"
  },
  "orig_nbformat": 4,
  "vscode": {
   "interpreter": {
    "hash": "46c4d7a06d9c9f3b4ce8e6b76538f5d2bc1addee6b5ebd23c8d981936e03d6fd"
   }
  }
 },
 "nbformat": 4,
 "nbformat_minor": 2
}
